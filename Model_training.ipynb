{
  "nbformat": 4,
  "nbformat_minor": 0,
  "metadata": {
    "colab": {
      "provenance": []
    },
    "kernelspec": {
      "name": "python3",
      "display_name": "Python 3"
    },
    "language_info": {
      "name": "python"
    }
  },
  "cells": [
    {
      "cell_type": "markdown",
      "source": [
        "**Importing the Depenecies**\n"
      ],
      "metadata": {
        "id": "8tuvfLAZ-CCg"
      }
    },
    {
      "cell_type": "code",
      "source": [
        "import numpy as np\n",
        "import pandas as pd\n",
        "from sklearn.model_selection import train_test_split\n",
        "from sklearn.preprocessing import StandardScaler\n",
        "from sklearn import svm\n",
        "from sklearn.metrics import accuracy_score\n",
        "import pickle"
      ],
      "metadata": {
        "id": "f7PM-CC_AALn"
      },
      "execution_count": 46,
      "outputs": []
    },
    {
      "cell_type": "markdown",
      "source": [
        "**Data Collection and Analysis**\n"
      ],
      "metadata": {
        "id": "dxpsVOFv-GRt"
      }
    },
    {
      "cell_type": "code",
      "source": [
        "# Data Collection and Analysis\n",
        "# Load the Lung dataset\n",
        "lung_dataset = pd.read_csv('/content/drive/MyDrive/Lung_Cancer_Predictor/Backend /survey lung cancer.csv')  # Replace 'Lung.csv' with the actual file path\n"
      ],
      "metadata": {
        "id": "m6SxVOy7ADka"
      },
      "execution_count": 47,
      "outputs": []
    },
    {
      "cell_type": "code",
      "source": [
        "# Display the first 5 rows\n",
        "print(lung_dataset.head())\n",
        "\n",
        "# Get the number of rows and columns\n",
        "print(lung_dataset.shape)\n",
        "\n",
        "# Get statistical measures\n",
        "print(lung_dataset.describe())"
      ],
      "metadata": {
        "colab": {
          "base_uri": "https://localhost:8080/"
        },
        "id": "cmQGIeV2AMaU",
        "outputId": "df8f051b-4878-49b7-f5e4-d26be923a678"
      },
      "execution_count": 48,
      "outputs": [
        {
          "output_type": "stream",
          "name": "stdout",
          "text": [
            "  GENDER  AGE  SMOKING  YELLOW_FINGERS  ANXIETY  PEER_PRESSURE  \\\n",
            "0      M   69        1               2        2              1   \n",
            "1      M   74        2               1        1              1   \n",
            "2      F   59        1               1        1              2   \n",
            "3      M   63        2               2        2              1   \n",
            "4      F   63        1               2        1              1   \n",
            "\n",
            "   CHRONIC DISEASE  FATIGUE   ALLERGY   WHEEZING  ALCOHOL CONSUMING  COUGHING  \\\n",
            "0                1         2         1         2                  2         2   \n",
            "1                2         2         2         1                  1         1   \n",
            "2                1         2         1         2                  1         2   \n",
            "3                1         1         1         1                  2         1   \n",
            "4                1         1         1         2                  1         2   \n",
            "\n",
            "   SHORTNESS OF BREATH  SWALLOWING DIFFICULTY  CHEST PAIN LUNG_CANCER  \n",
            "0                    2                      2           2         YES  \n",
            "1                    2                      2           2         YES  \n",
            "2                    2                      1           2          NO  \n",
            "3                    1                      2           2          NO  \n",
            "4                    2                      1           1          NO  \n",
            "(309, 16)\n",
            "              AGE     SMOKING  YELLOW_FINGERS     ANXIETY  PEER_PRESSURE  \\\n",
            "count  309.000000  309.000000      309.000000  309.000000     309.000000   \n",
            "mean    62.673139    1.563107        1.569579    1.498382       1.501618   \n",
            "std      8.210301    0.496806        0.495938    0.500808       0.500808   \n",
            "min     21.000000    1.000000        1.000000    1.000000       1.000000   \n",
            "25%     57.000000    1.000000        1.000000    1.000000       1.000000   \n",
            "50%     62.000000    2.000000        2.000000    1.000000       2.000000   \n",
            "75%     69.000000    2.000000        2.000000    2.000000       2.000000   \n",
            "max     87.000000    2.000000        2.000000    2.000000       2.000000   \n",
            "\n",
            "       CHRONIC DISEASE    FATIGUE     ALLERGY     WHEEZING  ALCOHOL CONSUMING  \\\n",
            "count       309.000000  309.000000  309.000000  309.000000         309.000000   \n",
            "mean          1.504854    1.673139    1.556634    1.556634           1.556634   \n",
            "std           0.500787    0.469827    0.497588    0.497588           0.497588   \n",
            "min           1.000000    1.000000    1.000000    1.000000           1.000000   \n",
            "25%           1.000000    1.000000    1.000000    1.000000           1.000000   \n",
            "50%           2.000000    2.000000    2.000000    2.000000           2.000000   \n",
            "75%           2.000000    2.000000    2.000000    2.000000           2.000000   \n",
            "max           2.000000    2.000000    2.000000    2.000000           2.000000   \n",
            "\n",
            "         COUGHING  SHORTNESS OF BREATH  SWALLOWING DIFFICULTY  CHEST PAIN  \n",
            "count  309.000000           309.000000             309.000000  309.000000  \n",
            "mean     1.579288             1.640777               1.469256    1.556634  \n",
            "std      0.494474             0.480551               0.499863    0.497588  \n",
            "min      1.000000             1.000000               1.000000    1.000000  \n",
            "25%      1.000000             1.000000               1.000000    1.000000  \n",
            "50%      2.000000             2.000000               1.000000    2.000000  \n",
            "75%      2.000000             2.000000               2.000000    2.000000  \n",
            "max      2.000000             2.000000               2.000000    2.000000  \n"
          ]
        }
      ]
    },
    {
      "source": [
        "# Group by the target variable (e.g., 'LUNG_DISEASE') and calculate the mean\n",
        "# Replace 'LUNG_CANCER' with the correct column name here as well\n",
        "# Include only numerical features for calculating the mean\n",
        "print(lung_dataset.groupby('LUNG_CANCER').mean(numeric_only=True))  # Add numeric_only=True"
      ],
      "cell_type": "code",
      "metadata": {
        "colab": {
          "base_uri": "https://localhost:8080/"
        },
        "id": "TuHHH6h-BYBL",
        "outputId": "a169a817-33f2-4ea9-cda2-ae4ad99fdec3"
      },
      "execution_count": 49,
      "outputs": [
        {
          "output_type": "stream",
          "name": "stdout",
          "text": [
            "                   AGE   SMOKING  YELLOW_FINGERS   ANXIETY  PEER_PRESSURE  \\\n",
            "LUNG_CANCER                                                                 \n",
            "NO           60.743590  1.487179        1.333333  1.307692       1.256410   \n",
            "YES          62.951852  1.574074        1.603704  1.525926       1.537037   \n",
            "\n",
            "             CHRONIC DISEASE  FATIGUE   ALLERGY   WHEEZING  ALCOHOL CONSUMING  \\\n",
            "LUNG_CANCER                                                                     \n",
            "NO                  1.358974  1.487179  1.128205  1.230769           1.179487   \n",
            "YES                 1.525926  1.700000  1.618519  1.603704           1.611111   \n",
            "\n",
            "             COUGHING  SHORTNESS OF BREATH  SWALLOWING DIFFICULTY  CHEST PAIN  \n",
            "LUNG_CANCER                                                                    \n",
            "NO           1.256410             1.564103               1.128205    1.307692  \n",
            "YES          1.625926             1.651852               1.518519    1.592593  \n"
          ]
        }
      ]
    },
    {
      "source": [
        "# Assuming there's a target variable indicating lung condition (e.g., 'LUNG_DISEASE')\n",
        "# You'll need to replace 'LUNG_DISEASE' with the actual name of your target column\n",
        "# Check the actual column name in your dataset\n",
        "# and replace 'LUNG_CANCER' with the correct column name\n",
        "print(lung_dataset['LUNG_CANCER'].value_counts())\n",
        "\n",
        "# Group by the target variable (e.g., 'LUNG_DISEASE') and calculate the mean\n",
        "# Replace 'LUNG_CANCER' with the correct column name here as well\n",
        "# Include only numerical features for calculating the mean\n",
        "print(lung_dataset.groupby('LUNG_CANCER').mean(numeric_only=True)) # Applying mean to only numerical columns\n",
        "\n",
        "# Separate data and labels\n",
        "# Replace 'LUNG_CANCER' with the correct column name\n",
        "X = lung_dataset.drop(columns='LUNG_CANCER', axis=1)  # Drop the target column\n",
        "Y = lung_dataset['LUNG_CANCER']  # Target column\n",
        "\n",
        "print(\"Features (X):\")\n",
        "print(X)\n",
        "\n",
        "print(\"Target (Y):\")\n",
        "print(Y)"
      ],
      "cell_type": "code",
      "metadata": {
        "colab": {
          "base_uri": "https://localhost:8080/"
        },
        "id": "oOUkmifiBiyF",
        "outputId": "dd0864a9-9cf9-48fb-9a94-750041dfaf43"
      },
      "execution_count": 50,
      "outputs": [
        {
          "output_type": "stream",
          "name": "stdout",
          "text": [
            "LUNG_CANCER\n",
            "YES    270\n",
            "NO      39\n",
            "Name: count, dtype: int64\n",
            "                   AGE   SMOKING  YELLOW_FINGERS   ANXIETY  PEER_PRESSURE  \\\n",
            "LUNG_CANCER                                                                 \n",
            "NO           60.743590  1.487179        1.333333  1.307692       1.256410   \n",
            "YES          62.951852  1.574074        1.603704  1.525926       1.537037   \n",
            "\n",
            "             CHRONIC DISEASE  FATIGUE   ALLERGY   WHEEZING  ALCOHOL CONSUMING  \\\n",
            "LUNG_CANCER                                                                     \n",
            "NO                  1.358974  1.487179  1.128205  1.230769           1.179487   \n",
            "YES                 1.525926  1.700000  1.618519  1.603704           1.611111   \n",
            "\n",
            "             COUGHING  SHORTNESS OF BREATH  SWALLOWING DIFFICULTY  CHEST PAIN  \n",
            "LUNG_CANCER                                                                    \n",
            "NO           1.256410             1.564103               1.128205    1.307692  \n",
            "YES          1.625926             1.651852               1.518519    1.592593  \n",
            "Features (X):\n",
            "    GENDER  AGE  SMOKING  YELLOW_FINGERS  ANXIETY  PEER_PRESSURE  \\\n",
            "0        M   69        1               2        2              1   \n",
            "1        M   74        2               1        1              1   \n",
            "2        F   59        1               1        1              2   \n",
            "3        M   63        2               2        2              1   \n",
            "4        F   63        1               2        1              1   \n",
            "..     ...  ...      ...             ...      ...            ...   \n",
            "304      F   56        1               1        1              2   \n",
            "305      M   70        2               1        1              1   \n",
            "306      M   58        2               1        1              1   \n",
            "307      M   67        2               1        2              1   \n",
            "308      M   62        1               1        1              2   \n",
            "\n",
            "     CHRONIC DISEASE  FATIGUE   ALLERGY   WHEEZING  ALCOHOL CONSUMING  \\\n",
            "0                  1         2         1         2                  2   \n",
            "1                  2         2         2         1                  1   \n",
            "2                  1         2         1         2                  1   \n",
            "3                  1         1         1         1                  2   \n",
            "4                  1         1         1         2                  1   \n",
            "..               ...       ...       ...       ...                ...   \n",
            "304                2         2         1         1                  2   \n",
            "305                1         2         2         2                  2   \n",
            "306                1         1         2         2                  2   \n",
            "307                1         2         2         1                  2   \n",
            "308                1         2         2         2                  2   \n",
            "\n",
            "     COUGHING  SHORTNESS OF BREATH  SWALLOWING DIFFICULTY  CHEST PAIN  \n",
            "0           2                    2                      2           2  \n",
            "1           1                    2                      2           2  \n",
            "2           2                    2                      1           2  \n",
            "3           1                    1                      2           2  \n",
            "4           2                    2                      1           1  \n",
            "..        ...                  ...                    ...         ...  \n",
            "304         2                    2                      2           1  \n",
            "305         2                    2                      1           2  \n",
            "306         2                    1                      1           2  \n",
            "307         2                    2                      1           2  \n",
            "308         1                    1                      2           1  \n",
            "\n",
            "[309 rows x 15 columns]\n",
            "Target (Y):\n",
            "0      YES\n",
            "1      YES\n",
            "2       NO\n",
            "3       NO\n",
            "4       NO\n",
            "      ... \n",
            "304    YES\n",
            "305    YES\n",
            "306    YES\n",
            "307    YES\n",
            "308    YES\n",
            "Name: LUNG_CANCER, Length: 309, dtype: object\n"
          ]
        }
      ]
    },
    {
      "cell_type": "markdown",
      "source": [
        "**Data Standardization**\n"
      ],
      "metadata": {
        "id": "twa-p_V6-nCb"
      }
    },
    {
      "source": [
        "# Data Standardization\n",
        "# ... (previous code) ...\n",
        "\n",
        "# Convert 'GENDER' column to numerical before scaling\n",
        "X['GENDER'] = X['GENDER'].map({'M': 1, 'F': 0})  # Map 'M' to 1 and 'F' to 0\n",
        "\n",
        "scaler = StandardScaler()\n",
        "scaler.fit(X)\n",
        "standardized_data = scaler.transform(X)\n",
        "\n",
        "# ... (rest of the code) ..."
      ],
      "cell_type": "code",
      "metadata": {
        "id": "Hnfz9daYBvlK"
      },
      "execution_count": 51,
      "outputs": []
    },
    {
      "cell_type": "code",
      "source": [
        "# Data Standardization\n",
        "scaler = StandardScaler()\n",
        "scaler.fit(X)\n",
        "standardized_data = scaler.transform(X)\n",
        "\n",
        "print(\"Standardized Data:\")\n",
        "print(standardized_data)\n",
        "\n",
        "X = standardized_data\n",
        "# Y remains the same\n",
        "\n",
        "print(\"Standardized Features (X):\")\n",
        "print(X)\n",
        "print(\"Target (Y):\")\n",
        "print(Y)\n"
      ],
      "metadata": {
        "colab": {
          "base_uri": "https://localhost:8080/"
        },
        "id": "xUl1aWR8AT0K",
        "outputId": "3eb7978f-3c7d-49fa-9a56-0b4469fea8e4"
      },
      "execution_count": 52,
      "outputs": [
        {
          "output_type": "stream",
          "name": "stdout",
          "text": [
            "Standardized Data:\n",
            "[[ 0.95257934  0.77185028 -1.13529242 ...  0.74873631  1.06350105\n",
            "   0.892475  ]\n",
            " [ 0.95257934  1.38182914  0.88083033 ...  0.74873631  1.06350105\n",
            "   0.892475  ]\n",
            " [-1.04978132 -0.44810745 -1.13529242 ...  0.74873631 -0.94029056\n",
            "   0.892475  ]\n",
            " ...\n",
            " [ 0.95257934 -0.57010322  0.88083033 ... -1.33558369 -0.94029056\n",
            "   0.892475  ]\n",
            " [ 0.95257934  0.52785873  0.88083033 ...  0.74873631 -0.94029056\n",
            "   0.892475  ]\n",
            " [ 0.95257934 -0.08212013 -1.13529242 ... -1.33558369  1.06350105\n",
            "  -1.12047956]]\n",
            "Standardized Features (X):\n",
            "[[ 0.95257934  0.77185028 -1.13529242 ...  0.74873631  1.06350105\n",
            "   0.892475  ]\n",
            " [ 0.95257934  1.38182914  0.88083033 ...  0.74873631  1.06350105\n",
            "   0.892475  ]\n",
            " [-1.04978132 -0.44810745 -1.13529242 ...  0.74873631 -0.94029056\n",
            "   0.892475  ]\n",
            " ...\n",
            " [ 0.95257934 -0.57010322  0.88083033 ... -1.33558369 -0.94029056\n",
            "   0.892475  ]\n",
            " [ 0.95257934  0.52785873  0.88083033 ...  0.74873631 -0.94029056\n",
            "   0.892475  ]\n",
            " [ 0.95257934 -0.08212013 -1.13529242 ... -1.33558369  1.06350105\n",
            "  -1.12047956]]\n",
            "Target (Y):\n",
            "0      YES\n",
            "1      YES\n",
            "2       NO\n",
            "3       NO\n",
            "4       NO\n",
            "      ... \n",
            "304    YES\n",
            "305    YES\n",
            "306    YES\n",
            "307    YES\n",
            "308    YES\n",
            "Name: LUNG_CANCER, Length: 309, dtype: object\n"
          ]
        }
      ]
    },
    {
      "cell_type": "markdown",
      "source": [
        "**Train Test Split**\n"
      ],
      "metadata": {
        "id": "I_t6bY61-sr6"
      }
    },
    {
      "cell_type": "code",
      "source": [
        "# Train-Test Split\n",
        "X_train, X_test, Y_train, Y_test = train_test_split(X, Y, test_size=0.2, stratify=Y, random_state=2)\n",
        "\n",
        "print(\"X_train shape:\", X_train.shape)\n",
        "print(\"X_test shape:\", X_test.shape)"
      ],
      "metadata": {
        "colab": {
          "base_uri": "https://localhost:8080/"
        },
        "id": "zENtvBCh_26J",
        "outputId": "c6b32670-94f1-48e5-ba7f-3b018e4dc3d7"
      },
      "execution_count": 53,
      "outputs": [
        {
          "output_type": "stream",
          "name": "stdout",
          "text": [
            "X_train shape: (247, 15)\n",
            "X_test shape: (62, 15)\n"
          ]
        }
      ]
    },
    {
      "cell_type": "markdown",
      "source": [
        "# Training the Model (SVM Classifier)\n"
      ],
      "metadata": {
        "id": "bge6aHDJAZe8"
      }
    },
    {
      "source": [
        "# Before scaling and splitting the data\n",
        "lung_dataset.dropna(inplace=True)"
      ],
      "cell_type": "code",
      "metadata": {
        "id": "WLBvG3ZFB9SE"
      },
      "execution_count": 54,
      "outputs": []
    },
    {
      "source": [
        "# Before scaling and splitting the data\n",
        "from sklearn.impute import SimpleImputer\n",
        "\n",
        "# Create an imputer (you can use different strategies like mean, median, or most frequent)\n",
        "imputer = SimpleImputer(strategy='mean')\n",
        "\n",
        "# Fit the imputer on your numerical features and transform\n",
        "numerical_features = lung_dataset.select_dtypes(include=np.number).columns\n",
        "lung_dataset[numerical_features] = imputer.fit_transform(lung_dataset[numerical_features])"
      ],
      "cell_type": "code",
      "metadata": {
        "id": "CZCwOhr5CArn"
      },
      "execution_count": 55,
      "outputs": []
    },
    {
      "source": [
        "\n",
        "# Data Standardization\n",
        "scaler = StandardScaler()\n",
        "X = scaler.fit_transform(X)  # Fit and transform on X\n",
        "\n",
        "# Train-Test Split (after imputation and scaling)\n",
        "X_train, X_test, Y_train, Y_test = train_test_split(X, Y, test_size=0.2, stratify=Y, random_state=2)\n",
        "\n",
        "# Training the Model (SVM Classifier)\n",
        "classifier = svm.SVC(kernel='linear')  # You can experiment with other kernels\n",
        "classifier.fit(X_train, Y_train)\n",
        "\n",
        "# ... (rest of your code) ..."
      ],
      "cell_type": "code",
      "metadata": {
        "colab": {
          "base_uri": "https://localhost:8080/",
          "height": 80
        },
        "id": "37p3KA9-CHUQ",
        "outputId": "776ba376-041e-43e5-d354-c9cadfe64f84"
      },
      "execution_count": 56,
      "outputs": [
        {
          "output_type": "execute_result",
          "data": {
            "text/plain": [
              "SVC(kernel='linear')"
            ],
            "text/html": [
              "<style>#sk-container-id-4 {\n",
              "  /* Definition of color scheme common for light and dark mode */\n",
              "  --sklearn-color-text: #000;\n",
              "  --sklearn-color-text-muted: #666;\n",
              "  --sklearn-color-line: gray;\n",
              "  /* Definition of color scheme for unfitted estimators */\n",
              "  --sklearn-color-unfitted-level-0: #fff5e6;\n",
              "  --sklearn-color-unfitted-level-1: #f6e4d2;\n",
              "  --sklearn-color-unfitted-level-2: #ffe0b3;\n",
              "  --sklearn-color-unfitted-level-3: chocolate;\n",
              "  /* Definition of color scheme for fitted estimators */\n",
              "  --sklearn-color-fitted-level-0: #f0f8ff;\n",
              "  --sklearn-color-fitted-level-1: #d4ebff;\n",
              "  --sklearn-color-fitted-level-2: #b3dbfd;\n",
              "  --sklearn-color-fitted-level-3: cornflowerblue;\n",
              "\n",
              "  /* Specific color for light theme */\n",
              "  --sklearn-color-text-on-default-background: var(--sg-text-color, var(--theme-code-foreground, var(--jp-content-font-color1, black)));\n",
              "  --sklearn-color-background: var(--sg-background-color, var(--theme-background, var(--jp-layout-color0, white)));\n",
              "  --sklearn-color-border-box: var(--sg-text-color, var(--theme-code-foreground, var(--jp-content-font-color1, black)));\n",
              "  --sklearn-color-icon: #696969;\n",
              "\n",
              "  @media (prefers-color-scheme: dark) {\n",
              "    /* Redefinition of color scheme for dark theme */\n",
              "    --sklearn-color-text-on-default-background: var(--sg-text-color, var(--theme-code-foreground, var(--jp-content-font-color1, white)));\n",
              "    --sklearn-color-background: var(--sg-background-color, var(--theme-background, var(--jp-layout-color0, #111)));\n",
              "    --sklearn-color-border-box: var(--sg-text-color, var(--theme-code-foreground, var(--jp-content-font-color1, white)));\n",
              "    --sklearn-color-icon: #878787;\n",
              "  }\n",
              "}\n",
              "\n",
              "#sk-container-id-4 {\n",
              "  color: var(--sklearn-color-text);\n",
              "}\n",
              "\n",
              "#sk-container-id-4 pre {\n",
              "  padding: 0;\n",
              "}\n",
              "\n",
              "#sk-container-id-4 input.sk-hidden--visually {\n",
              "  border: 0;\n",
              "  clip: rect(1px 1px 1px 1px);\n",
              "  clip: rect(1px, 1px, 1px, 1px);\n",
              "  height: 1px;\n",
              "  margin: -1px;\n",
              "  overflow: hidden;\n",
              "  padding: 0;\n",
              "  position: absolute;\n",
              "  width: 1px;\n",
              "}\n",
              "\n",
              "#sk-container-id-4 div.sk-dashed-wrapped {\n",
              "  border: 1px dashed var(--sklearn-color-line);\n",
              "  margin: 0 0.4em 0.5em 0.4em;\n",
              "  box-sizing: border-box;\n",
              "  padding-bottom: 0.4em;\n",
              "  background-color: var(--sklearn-color-background);\n",
              "}\n",
              "\n",
              "#sk-container-id-4 div.sk-container {\n",
              "  /* jupyter's `normalize.less` sets `[hidden] { display: none; }`\n",
              "     but bootstrap.min.css set `[hidden] { display: none !important; }`\n",
              "     so we also need the `!important` here to be able to override the\n",
              "     default hidden behavior on the sphinx rendered scikit-learn.org.\n",
              "     See: https://github.com/scikit-learn/scikit-learn/issues/21755 */\n",
              "  display: inline-block !important;\n",
              "  position: relative;\n",
              "}\n",
              "\n",
              "#sk-container-id-4 div.sk-text-repr-fallback {\n",
              "  display: none;\n",
              "}\n",
              "\n",
              "div.sk-parallel-item,\n",
              "div.sk-serial,\n",
              "div.sk-item {\n",
              "  /* draw centered vertical line to link estimators */\n",
              "  background-image: linear-gradient(var(--sklearn-color-text-on-default-background), var(--sklearn-color-text-on-default-background));\n",
              "  background-size: 2px 100%;\n",
              "  background-repeat: no-repeat;\n",
              "  background-position: center center;\n",
              "}\n",
              "\n",
              "/* Parallel-specific style estimator block */\n",
              "\n",
              "#sk-container-id-4 div.sk-parallel-item::after {\n",
              "  content: \"\";\n",
              "  width: 100%;\n",
              "  border-bottom: 2px solid var(--sklearn-color-text-on-default-background);\n",
              "  flex-grow: 1;\n",
              "}\n",
              "\n",
              "#sk-container-id-4 div.sk-parallel {\n",
              "  display: flex;\n",
              "  align-items: stretch;\n",
              "  justify-content: center;\n",
              "  background-color: var(--sklearn-color-background);\n",
              "  position: relative;\n",
              "}\n",
              "\n",
              "#sk-container-id-4 div.sk-parallel-item {\n",
              "  display: flex;\n",
              "  flex-direction: column;\n",
              "}\n",
              "\n",
              "#sk-container-id-4 div.sk-parallel-item:first-child::after {\n",
              "  align-self: flex-end;\n",
              "  width: 50%;\n",
              "}\n",
              "\n",
              "#sk-container-id-4 div.sk-parallel-item:last-child::after {\n",
              "  align-self: flex-start;\n",
              "  width: 50%;\n",
              "}\n",
              "\n",
              "#sk-container-id-4 div.sk-parallel-item:only-child::after {\n",
              "  width: 0;\n",
              "}\n",
              "\n",
              "/* Serial-specific style estimator block */\n",
              "\n",
              "#sk-container-id-4 div.sk-serial {\n",
              "  display: flex;\n",
              "  flex-direction: column;\n",
              "  align-items: center;\n",
              "  background-color: var(--sklearn-color-background);\n",
              "  padding-right: 1em;\n",
              "  padding-left: 1em;\n",
              "}\n",
              "\n",
              "\n",
              "/* Toggleable style: style used for estimator/Pipeline/ColumnTransformer box that is\n",
              "clickable and can be expanded/collapsed.\n",
              "- Pipeline and ColumnTransformer use this feature and define the default style\n",
              "- Estimators will overwrite some part of the style using the `sk-estimator` class\n",
              "*/\n",
              "\n",
              "/* Pipeline and ColumnTransformer style (default) */\n",
              "\n",
              "#sk-container-id-4 div.sk-toggleable {\n",
              "  /* Default theme specific background. It is overwritten whether we have a\n",
              "  specific estimator or a Pipeline/ColumnTransformer */\n",
              "  background-color: var(--sklearn-color-background);\n",
              "}\n",
              "\n",
              "/* Toggleable label */\n",
              "#sk-container-id-4 label.sk-toggleable__label {\n",
              "  cursor: pointer;\n",
              "  display: flex;\n",
              "  width: 100%;\n",
              "  margin-bottom: 0;\n",
              "  padding: 0.5em;\n",
              "  box-sizing: border-box;\n",
              "  text-align: center;\n",
              "  align-items: start;\n",
              "  justify-content: space-between;\n",
              "  gap: 0.5em;\n",
              "}\n",
              "\n",
              "#sk-container-id-4 label.sk-toggleable__label .caption {\n",
              "  font-size: 0.6rem;\n",
              "  font-weight: lighter;\n",
              "  color: var(--sklearn-color-text-muted);\n",
              "}\n",
              "\n",
              "#sk-container-id-4 label.sk-toggleable__label-arrow:before {\n",
              "  /* Arrow on the left of the label */\n",
              "  content: \"▸\";\n",
              "  float: left;\n",
              "  margin-right: 0.25em;\n",
              "  color: var(--sklearn-color-icon);\n",
              "}\n",
              "\n",
              "#sk-container-id-4 label.sk-toggleable__label-arrow:hover:before {\n",
              "  color: var(--sklearn-color-text);\n",
              "}\n",
              "\n",
              "/* Toggleable content - dropdown */\n",
              "\n",
              "#sk-container-id-4 div.sk-toggleable__content {\n",
              "  max-height: 0;\n",
              "  max-width: 0;\n",
              "  overflow: hidden;\n",
              "  text-align: left;\n",
              "  /* unfitted */\n",
              "  background-color: var(--sklearn-color-unfitted-level-0);\n",
              "}\n",
              "\n",
              "#sk-container-id-4 div.sk-toggleable__content.fitted {\n",
              "  /* fitted */\n",
              "  background-color: var(--sklearn-color-fitted-level-0);\n",
              "}\n",
              "\n",
              "#sk-container-id-4 div.sk-toggleable__content pre {\n",
              "  margin: 0.2em;\n",
              "  border-radius: 0.25em;\n",
              "  color: var(--sklearn-color-text);\n",
              "  /* unfitted */\n",
              "  background-color: var(--sklearn-color-unfitted-level-0);\n",
              "}\n",
              "\n",
              "#sk-container-id-4 div.sk-toggleable__content.fitted pre {\n",
              "  /* unfitted */\n",
              "  background-color: var(--sklearn-color-fitted-level-0);\n",
              "}\n",
              "\n",
              "#sk-container-id-4 input.sk-toggleable__control:checked~div.sk-toggleable__content {\n",
              "  /* Expand drop-down */\n",
              "  max-height: 200px;\n",
              "  max-width: 100%;\n",
              "  overflow: auto;\n",
              "}\n",
              "\n",
              "#sk-container-id-4 input.sk-toggleable__control:checked~label.sk-toggleable__label-arrow:before {\n",
              "  content: \"▾\";\n",
              "}\n",
              "\n",
              "/* Pipeline/ColumnTransformer-specific style */\n",
              "\n",
              "#sk-container-id-4 div.sk-label input.sk-toggleable__control:checked~label.sk-toggleable__label {\n",
              "  color: var(--sklearn-color-text);\n",
              "  background-color: var(--sklearn-color-unfitted-level-2);\n",
              "}\n",
              "\n",
              "#sk-container-id-4 div.sk-label.fitted input.sk-toggleable__control:checked~label.sk-toggleable__label {\n",
              "  background-color: var(--sklearn-color-fitted-level-2);\n",
              "}\n",
              "\n",
              "/* Estimator-specific style */\n",
              "\n",
              "/* Colorize estimator box */\n",
              "#sk-container-id-4 div.sk-estimator input.sk-toggleable__control:checked~label.sk-toggleable__label {\n",
              "  /* unfitted */\n",
              "  background-color: var(--sklearn-color-unfitted-level-2);\n",
              "}\n",
              "\n",
              "#sk-container-id-4 div.sk-estimator.fitted input.sk-toggleable__control:checked~label.sk-toggleable__label {\n",
              "  /* fitted */\n",
              "  background-color: var(--sklearn-color-fitted-level-2);\n",
              "}\n",
              "\n",
              "#sk-container-id-4 div.sk-label label.sk-toggleable__label,\n",
              "#sk-container-id-4 div.sk-label label {\n",
              "  /* The background is the default theme color */\n",
              "  color: var(--sklearn-color-text-on-default-background);\n",
              "}\n",
              "\n",
              "/* On hover, darken the color of the background */\n",
              "#sk-container-id-4 div.sk-label:hover label.sk-toggleable__label {\n",
              "  color: var(--sklearn-color-text);\n",
              "  background-color: var(--sklearn-color-unfitted-level-2);\n",
              "}\n",
              "\n",
              "/* Label box, darken color on hover, fitted */\n",
              "#sk-container-id-4 div.sk-label.fitted:hover label.sk-toggleable__label.fitted {\n",
              "  color: var(--sklearn-color-text);\n",
              "  background-color: var(--sklearn-color-fitted-level-2);\n",
              "}\n",
              "\n",
              "/* Estimator label */\n",
              "\n",
              "#sk-container-id-4 div.sk-label label {\n",
              "  font-family: monospace;\n",
              "  font-weight: bold;\n",
              "  display: inline-block;\n",
              "  line-height: 1.2em;\n",
              "}\n",
              "\n",
              "#sk-container-id-4 div.sk-label-container {\n",
              "  text-align: center;\n",
              "}\n",
              "\n",
              "/* Estimator-specific */\n",
              "#sk-container-id-4 div.sk-estimator {\n",
              "  font-family: monospace;\n",
              "  border: 1px dotted var(--sklearn-color-border-box);\n",
              "  border-radius: 0.25em;\n",
              "  box-sizing: border-box;\n",
              "  margin-bottom: 0.5em;\n",
              "  /* unfitted */\n",
              "  background-color: var(--sklearn-color-unfitted-level-0);\n",
              "}\n",
              "\n",
              "#sk-container-id-4 div.sk-estimator.fitted {\n",
              "  /* fitted */\n",
              "  background-color: var(--sklearn-color-fitted-level-0);\n",
              "}\n",
              "\n",
              "/* on hover */\n",
              "#sk-container-id-4 div.sk-estimator:hover {\n",
              "  /* unfitted */\n",
              "  background-color: var(--sklearn-color-unfitted-level-2);\n",
              "}\n",
              "\n",
              "#sk-container-id-4 div.sk-estimator.fitted:hover {\n",
              "  /* fitted */\n",
              "  background-color: var(--sklearn-color-fitted-level-2);\n",
              "}\n",
              "\n",
              "/* Specification for estimator info (e.g. \"i\" and \"?\") */\n",
              "\n",
              "/* Common style for \"i\" and \"?\" */\n",
              "\n",
              ".sk-estimator-doc-link,\n",
              "a:link.sk-estimator-doc-link,\n",
              "a:visited.sk-estimator-doc-link {\n",
              "  float: right;\n",
              "  font-size: smaller;\n",
              "  line-height: 1em;\n",
              "  font-family: monospace;\n",
              "  background-color: var(--sklearn-color-background);\n",
              "  border-radius: 1em;\n",
              "  height: 1em;\n",
              "  width: 1em;\n",
              "  text-decoration: none !important;\n",
              "  margin-left: 0.5em;\n",
              "  text-align: center;\n",
              "  /* unfitted */\n",
              "  border: var(--sklearn-color-unfitted-level-1) 1pt solid;\n",
              "  color: var(--sklearn-color-unfitted-level-1);\n",
              "}\n",
              "\n",
              ".sk-estimator-doc-link.fitted,\n",
              "a:link.sk-estimator-doc-link.fitted,\n",
              "a:visited.sk-estimator-doc-link.fitted {\n",
              "  /* fitted */\n",
              "  border: var(--sklearn-color-fitted-level-1) 1pt solid;\n",
              "  color: var(--sklearn-color-fitted-level-1);\n",
              "}\n",
              "\n",
              "/* On hover */\n",
              "div.sk-estimator:hover .sk-estimator-doc-link:hover,\n",
              ".sk-estimator-doc-link:hover,\n",
              "div.sk-label-container:hover .sk-estimator-doc-link:hover,\n",
              ".sk-estimator-doc-link:hover {\n",
              "  /* unfitted */\n",
              "  background-color: var(--sklearn-color-unfitted-level-3);\n",
              "  color: var(--sklearn-color-background);\n",
              "  text-decoration: none;\n",
              "}\n",
              "\n",
              "div.sk-estimator.fitted:hover .sk-estimator-doc-link.fitted:hover,\n",
              ".sk-estimator-doc-link.fitted:hover,\n",
              "div.sk-label-container:hover .sk-estimator-doc-link.fitted:hover,\n",
              ".sk-estimator-doc-link.fitted:hover {\n",
              "  /* fitted */\n",
              "  background-color: var(--sklearn-color-fitted-level-3);\n",
              "  color: var(--sklearn-color-background);\n",
              "  text-decoration: none;\n",
              "}\n",
              "\n",
              "/* Span, style for the box shown on hovering the info icon */\n",
              ".sk-estimator-doc-link span {\n",
              "  display: none;\n",
              "  z-index: 9999;\n",
              "  position: relative;\n",
              "  font-weight: normal;\n",
              "  right: .2ex;\n",
              "  padding: .5ex;\n",
              "  margin: .5ex;\n",
              "  width: min-content;\n",
              "  min-width: 20ex;\n",
              "  max-width: 50ex;\n",
              "  color: var(--sklearn-color-text);\n",
              "  box-shadow: 2pt 2pt 4pt #999;\n",
              "  /* unfitted */\n",
              "  background: var(--sklearn-color-unfitted-level-0);\n",
              "  border: .5pt solid var(--sklearn-color-unfitted-level-3);\n",
              "}\n",
              "\n",
              ".sk-estimator-doc-link.fitted span {\n",
              "  /* fitted */\n",
              "  background: var(--sklearn-color-fitted-level-0);\n",
              "  border: var(--sklearn-color-fitted-level-3);\n",
              "}\n",
              "\n",
              ".sk-estimator-doc-link:hover span {\n",
              "  display: block;\n",
              "}\n",
              "\n",
              "/* \"?\"-specific style due to the `<a>` HTML tag */\n",
              "\n",
              "#sk-container-id-4 a.estimator_doc_link {\n",
              "  float: right;\n",
              "  font-size: 1rem;\n",
              "  line-height: 1em;\n",
              "  font-family: monospace;\n",
              "  background-color: var(--sklearn-color-background);\n",
              "  border-radius: 1rem;\n",
              "  height: 1rem;\n",
              "  width: 1rem;\n",
              "  text-decoration: none;\n",
              "  /* unfitted */\n",
              "  color: var(--sklearn-color-unfitted-level-1);\n",
              "  border: var(--sklearn-color-unfitted-level-1) 1pt solid;\n",
              "}\n",
              "\n",
              "#sk-container-id-4 a.estimator_doc_link.fitted {\n",
              "  /* fitted */\n",
              "  border: var(--sklearn-color-fitted-level-1) 1pt solid;\n",
              "  color: var(--sklearn-color-fitted-level-1);\n",
              "}\n",
              "\n",
              "/* On hover */\n",
              "#sk-container-id-4 a.estimator_doc_link:hover {\n",
              "  /* unfitted */\n",
              "  background-color: var(--sklearn-color-unfitted-level-3);\n",
              "  color: var(--sklearn-color-background);\n",
              "  text-decoration: none;\n",
              "}\n",
              "\n",
              "#sk-container-id-4 a.estimator_doc_link.fitted:hover {\n",
              "  /* fitted */\n",
              "  background-color: var(--sklearn-color-fitted-level-3);\n",
              "}\n",
              "</style><div id=\"sk-container-id-4\" class=\"sk-top-container\"><div class=\"sk-text-repr-fallback\"><pre>SVC(kernel=&#x27;linear&#x27;)</pre><b>In a Jupyter environment, please rerun this cell to show the HTML representation or trust the notebook. <br />On GitHub, the HTML representation is unable to render, please try loading this page with nbviewer.org.</b></div><div class=\"sk-container\" hidden><div class=\"sk-item\"><div class=\"sk-estimator fitted sk-toggleable\"><input class=\"sk-toggleable__control sk-hidden--visually\" id=\"sk-estimator-id-4\" type=\"checkbox\" checked><label for=\"sk-estimator-id-4\" class=\"sk-toggleable__label fitted sk-toggleable__label-arrow\"><div><div>SVC</div></div><div><a class=\"sk-estimator-doc-link fitted\" rel=\"noreferrer\" target=\"_blank\" href=\"https://scikit-learn.org/1.6/modules/generated/sklearn.svm.SVC.html\">?<span>Documentation for SVC</span></a><span class=\"sk-estimator-doc-link fitted\">i<span>Fitted</span></span></div></label><div class=\"sk-toggleable__content fitted\"><pre>SVC(kernel=&#x27;linear&#x27;)</pre></div> </div></div></div></div>"
            ]
          },
          "metadata": {},
          "execution_count": 56
        }
      ]
    },
    {
      "cell_type": "markdown",
      "source": [
        "# Model Evaluation - Accuracy Score\n",
        "# Accuracy on training data"
      ],
      "metadata": {
        "id": "_ZOdAMEFAYRq"
      }
    },
    {
      "cell_type": "code",
      "source": [
        "# Model Evaluation - Accuracy Score\n",
        "# Accuracy on training data\n",
        "X_train_prediction = classifier.predict(X_train)\n",
        "training_data_accuracy = accuracy_score(X_train_prediction, Y_train)\n",
        "print(\"Accuracy score on training data:\", training_data_accuracy)\n",
        "\n",
        "# Accuracy on test data\n",
        "X_test_prediction = classifier.predict(X_test)\n",
        "test_data_accuracy = accuracy_score(X_test_prediction, Y_test)\n",
        "print(\"Accuracy score on test data:\", test_data_accuracy)"
      ],
      "metadata": {
        "colab": {
          "base_uri": "https://localhost:8080/"
        },
        "id": "UPTJPkCBAYe9",
        "outputId": "038dec3c-a8e3-4113-c437-a1f7253f244e"
      },
      "execution_count": 57,
      "outputs": [
        {
          "output_type": "stream",
          "name": "stdout",
          "text": [
            "Accuracy score on training data: 0.9392712550607287\n",
            "Accuracy score on test data: 0.9354838709677419\n"
          ]
        }
      ]
    },
    {
      "cell_type": "markdown",
      "source": [
        "# Making a Predictive System\n"
      ],
      "metadata": {
        "id": "2nKOK1K6AYt-"
      }
    },
    {
      "cell_type": "code",
      "source": [
        "# Making a Predictive System\n",
        "# Example input data (replace with actual values)\n",
        "input_data = {\n",
        "    'GENDER': 'M',\n",
        "    'AGE': 55,\n",
        "    'SMOKING': 2,\n",
        "    'YELLOW_FINGERS': 2,\n",
        "    'ANXIETY': 1,\n",
        "    'PEER_PRESSURE': 2,\n",
        "    'CHRONIC DISEASE': 1,\n",
        "    'FATIGUE': 2,\n",
        "    'ALLERGY': 1,\n",
        "    'WHEEZING': 2,\n",
        "    'ALCOHOL CONSUMING': 2,\n",
        "    'COUGHING': 2,\n",
        "    'SHORTNESS OF BREATH': 1,\n",
        "    'SWALLOWING DIFFICULTY': 2,\n",
        "    'CHEST PAIN': 2\n",
        "}\n",
        "\n",
        "# Convert input data to a DataFrame\n",
        "input_df = pd.DataFrame([input_data])\n",
        "\n",
        "# Preprocess the input data (important! Must match training)\n",
        "# Convert 'GENDER' to numerical (M:1, F:0)\n",
        "input_df['GENDER'] = input_df['GENDER'].map({'M': 1, 'F': 0})\n",
        "\n",
        "# Standardize the input data using the same scaler\n",
        "input_scaled = scaler.transform(input_df)\n",
        "\n",
        "print(\"Scaled Input Data:\")\n",
        "print(input_scaled)\n",
        "\n",
        "# Make the prediction\n",
        "prediction = classifier.predict(input_scaled)\n",
        "print(\"Prediction:\", prediction)\n",
        "\n",
        "# Interpret the prediction (assuming 1 means \"has lung disease\", 0 means \"no lung disease\")\n",
        "if prediction[0] == 0:\n",
        "    print(\"The person does not have lung disease.\")\n",
        "else:\n",
        "    print(\"The person has lung disease.\")"
      ],
      "metadata": {
        "colab": {
          "base_uri": "https://localhost:8080/"
        },
        "id": "F4xu3JrWA2fh",
        "outputId": "ef500b02-7787-4dcf-a524-7cd8c61fa460"
      },
      "execution_count": 58,
      "outputs": [
        {
          "output_type": "stream",
          "name": "stdout",
          "text": [
            "Scaled Input Data:\n",
            "[[ 1. 55.  2.  2.  1.  2.  1.  2.  1.  2.  2.  2.  1.  2.  2.]]\n",
            "Prediction: ['YES']\n",
            "The person has lung disease.\n"
          ]
        },
        {
          "output_type": "stream",
          "name": "stderr",
          "text": [
            "/usr/local/lib/python3.11/dist-packages/sklearn/utils/validation.py:2732: UserWarning: X has feature names, but StandardScaler was fitted without feature names\n",
            "  warnings.warn(\n"
          ]
        }
      ]
    },
    {
      "cell_type": "markdown",
      "source": [
        "# Deploy Model (Saving with Pickle)\n"
      ],
      "metadata": {
        "id": "QX-365UWA4w4"
      }
    },
    {
      "source": [
        "# Deploy Model (Saving with Pickle)\n",
        "filename = 'lung_disease_model.pkl'  # Changed filename for clarity\n",
        "pickle.dump(classifier, open(filename, 'wb'))\n",
        "\n",
        "# Download from Google Colab using 'files'\n",
        "from google.colab import files\n",
        "files.download(filename)  # Use files.download to download the file"
      ],
      "cell_type": "code",
      "metadata": {
        "colab": {
          "base_uri": "https://localhost:8080/",
          "height": 17
        },
        "id": "waEVcWtECdDj",
        "outputId": "e4522c5d-63bf-480a-fd72-b5761850a53e"
      },
      "execution_count": 59,
      "outputs": [
        {
          "output_type": "display_data",
          "data": {
            "text/plain": [
              "<IPython.core.display.Javascript object>"
            ],
            "application/javascript": [
              "\n",
              "    async function download(id, filename, size) {\n",
              "      if (!google.colab.kernel.accessAllowed) {\n",
              "        return;\n",
              "      }\n",
              "      const div = document.createElement('div');\n",
              "      const label = document.createElement('label');\n",
              "      label.textContent = `Downloading \"${filename}\": `;\n",
              "      div.appendChild(label);\n",
              "      const progress = document.createElement('progress');\n",
              "      progress.max = size;\n",
              "      div.appendChild(progress);\n",
              "      document.body.appendChild(div);\n",
              "\n",
              "      const buffers = [];\n",
              "      let downloaded = 0;\n",
              "\n",
              "      const channel = await google.colab.kernel.comms.open(id);\n",
              "      // Send a message to notify the kernel that we're ready.\n",
              "      channel.send({})\n",
              "\n",
              "      for await (const message of channel.messages) {\n",
              "        // Send a message to notify the kernel that we're ready.\n",
              "        channel.send({})\n",
              "        if (message.buffers) {\n",
              "          for (const buffer of message.buffers) {\n",
              "            buffers.push(buffer);\n",
              "            downloaded += buffer.byteLength;\n",
              "            progress.value = downloaded;\n",
              "          }\n",
              "        }\n",
              "      }\n",
              "      const blob = new Blob(buffers, {type: 'application/binary'});\n",
              "      const a = document.createElement('a');\n",
              "      a.href = window.URL.createObjectURL(blob);\n",
              "      a.download = filename;\n",
              "      div.appendChild(a);\n",
              "      a.click();\n",
              "      div.remove();\n",
              "    }\n",
              "  "
            ]
          },
          "metadata": {}
        },
        {
          "output_type": "display_data",
          "data": {
            "text/plain": [
              "<IPython.core.display.Javascript object>"
            ],
            "application/javascript": [
              "download(\"download_2846ccce-94d3-44b9-b013-91a82c8e6611\", \"lung_disease_model.pkl\", 7245)"
            ]
          },
          "metadata": {}
        }
      ]
    },
    {
      "cell_type": "code",
      "source": [],
      "metadata": {
        "id": "kyXKJws-CTGD"
      },
      "execution_count": 59,
      "outputs": []
    }
  ]
}